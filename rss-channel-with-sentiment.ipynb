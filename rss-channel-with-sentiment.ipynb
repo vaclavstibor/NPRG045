{
 "cells": [
  {
   "cell_type": "code",
   "execution_count": 3,
   "metadata": {},
   "outputs": [],
   "source": [
    "import feedparser\n",
    "import pandas as pd\n",
    "from urllib.parse import quote\n",
    "from bs4 import BeautifulSoup\n",
    "import requests\n",
    "from vaderSentiment.vaderSentiment import SentimentIntensityAnalyzer\n",
    "\n",
    "\n",
    "pd.options.display.max_columns = 250    #Changes the number of columns diplayed (default is 20)\n",
    "pd.options.display.max_rows = 250       #Changes the number of rows diplayed (default is 60)\n",
    "pd.options.display.max_colwidth = 250   #Changes the number of characters in a cell so that the contents don't get truncated (default is 50)"
   ]
  },
  {
   "cell_type": "code",
   "execution_count": 32,
   "metadata": {},
   "outputs": [],
   "source": [
    "# Source - https://news.google.com/\n",
    "# XML - https://news.google.com/rss?hl=cs&gl=CZ&ceid=CZ:cs\n",
    "# Query - https://stackoverflow.com/questions/51537063/url-format-for-google-news-rss-feed"
   ]
  },
  {
   "cell_type": "code",
   "execution_count": 4,
   "metadata": {},
   "outputs": [],
   "source": [
    "def analyze_sentiment(text):\n",
    "    analyzer = SentimentIntensityAnalyzer()\n",
    "    sentiment = analyzer.polarity_scores(text)\n",
    "    return sentiment['compound']"
   ]
  },
  {
   "cell_type": "code",
   "execution_count": 22,
   "metadata": {},
   "outputs": [
    {
     "ename": "NameError",
     "evalue": "name 'Descriptions' is not defined",
     "output_type": "error",
     "traceback": [
      "\u001b[0;31m---------------------------------------------------------------------------\u001b[0m",
      "\u001b[0;31mNameError\u001b[0m                                 Traceback (most recent call last)",
      "Cell \u001b[0;32mIn [22], line 48\u001b[0m\n\u001b[1;32m     41\u001b[0m lang \u001b[38;5;241m=\u001b[39m {\n\u001b[1;32m     42\u001b[0m     \u001b[38;5;124m'\u001b[39m\u001b[38;5;124mcz\u001b[39m\u001b[38;5;124m'\u001b[39m: \u001b[38;5;124m'\u001b[39m\u001b[38;5;124mhl=cs&gl=CZ&ceid=CZ:cs\u001b[39m\u001b[38;5;124m'\u001b[39m,\n\u001b[1;32m     43\u001b[0m     \u001b[38;5;124m'\u001b[39m\u001b[38;5;124men\u001b[39m\u001b[38;5;124m'\u001b[39m: \u001b[38;5;124m'\u001b[39m\u001b[38;5;124mhl=en&gl=US&ceid=US:en\u001b[39m\u001b[38;5;124m'\u001b[39m\n\u001b[1;32m     44\u001b[0m }\n\u001b[1;32m     46\u001b[0m rss_url \u001b[38;5;241m=\u001b[39m \u001b[38;5;124mf\u001b[39m\u001b[38;5;124m\"\u001b[39m\u001b[38;5;124mhttps://news.google.com/rss/search?q=\u001b[39m\u001b[38;5;132;01m{\u001b[39;00mencoded_query\u001b[38;5;132;01m}\u001b[39;00m\u001b[38;5;124m&\u001b[39m\u001b[38;5;132;01m{\u001b[39;00mlang[\u001b[38;5;124m'\u001b[39m\u001b[38;5;124mcz\u001b[39m\u001b[38;5;124m'\u001b[39m]\u001b[38;5;132;01m}\u001b[39;00m\u001b[38;5;124m\"\u001b[39m\n\u001b[0;32m---> 48\u001b[0m df \u001b[38;5;241m=\u001b[39m \u001b[43mgetContent\u001b[49m\u001b[43m(\u001b[49m\u001b[43mrss_url\u001b[49m\u001b[43m,\u001b[49m\u001b[43m \u001b[49m\u001b[43mquery\u001b[49m\u001b[43m)\u001b[49m\n\u001b[1;32m     50\u001b[0m display(df)\n",
      "Cell \u001b[0;32mIn [22], line 29\u001b[0m, in \u001b[0;36mgetContent\u001b[0;34m(rss_url, query)\u001b[0m\n\u001b[1;32m     27\u001b[0m             headline_sentiments\u001b[38;5;241m.\u001b[39mappend(analyze_sentiment(item\u001b[38;5;241m.\u001b[39mtitle))  \u001b[38;5;66;03m# Analyze sentiment of the headline\u001b[39;00m\n\u001b[1;32m     28\u001b[0m             \u001b[38;5;66;03m# Descriptions.append(get_article_content(item.link))\u001b[39;00m\n\u001b[0;32m---> 29\u001b[0m             \u001b[43mDescriptions\u001b[49m\u001b[38;5;241m.\u001b[39mappend(item\u001b[38;5;241m.\u001b[39mlink)\n\u001b[1;32m     31\u001b[0m \u001b[38;5;28;01mreturn\u001b[39;00m pd\u001b[38;5;241m.\u001b[39mDataFrame({\u001b[38;5;124m'\u001b[39m\u001b[38;5;124mDate\u001b[39m\u001b[38;5;124m'\u001b[39m: dates, \u001b[38;5;124m'\u001b[39m\u001b[38;5;124mSource\u001b[39m\u001b[38;5;124m'\u001b[39m: sources, \u001b[38;5;124m'\u001b[39m\u001b[38;5;124mTitle\u001b[39m\u001b[38;5;124m'\u001b[39m: headlines, \u001b[38;5;124m'\u001b[39m\u001b[38;5;124mSentiment\u001b[39m\u001b[38;5;124m'\u001b[39m: headline_sentiments})\n",
      "\u001b[0;31mNameError\u001b[0m: name 'Descriptions' is not defined"
     ]
    }
   ],
   "source": [
    "import feedparser\n",
    "import requests\n",
    "from bs4 import BeautifulSoup\n",
    "import pandas as pd\n",
    "from urllib.parse import quote\n",
    "\n",
    "def parseRSS(rss_url):\n",
    "    return feedparser.parse(rss_url)\n",
    "\n",
    "def getContent(rss_url, query):\n",
    "    dates = []\n",
    "    sources = []\n",
    "    headlines = []\n",
    "    headline_sentiments = []\n",
    "    links = []\n",
    "\n",
    "    feed = parseRSS(rss_url)\n",
    "    for item in feed.entries:\n",
    "        if query.lower() in item.title.lower():\n",
    "            # Získání data publikace\n",
    "            published_date = pd.to_datetime(item.published)\n",
    "            # Filtrování zpráv podle roku 2021\n",
    "            if published_date.year >= 2021:\n",
    "                dates.append(item.published)\n",
    "                sources.append(item.source.title)\n",
    "                headlines.append(item.title)\n",
    "                headline_sentiments.append(analyze_sentiment(item.title))  # Analyze sentiment of the headline\n",
    "                # Descriptions.append(get_article_content(item.link))\n",
    "                links.append(item.link)\n",
    "\n",
    "    return pd.DataFrame({'Date': dates, 'Source': sources, 'Title': headlines, 'Link': links, 'Sentiment': headline_sentiments}) #, 'Description': descriptions})\n",
    "\n",
    "def get_article_content(article_url):\n",
    "    response = requests.get(article_url)\n",
    "    soup = BeautifulSoup(response.content, 'html.parser')\n",
    "    article_content = soup.get_text()\n",
    "    return article_content\n",
    "\n",
    "query = \"Schillerová\"\n",
    "encoded_query = quote(query)  # Encoding the search term\n",
    "lang = {\n",
    "    'cz': 'hl=cs&gl=CZ&ceid=CZ:cs',\n",
    "    'en': 'hl=en&gl=US&ceid=US:en'\n",
    "}\n",
    "\n",
    "rss_url = f\"https://news.google.com/rss/search?q={encoded_query}&{lang['cz']}\"\n",
    "\n",
    "df = getContent(rss_url, query)\n",
    "\n",
    "display(df)\n"
   ]
  }
 ],
 "metadata": {
  "kernelspec": {
   "display_name": "Python 3",
   "language": "python",
   "name": "python3"
  },
  "language_info": {
   "codemirror_mode": {
    "name": "ipython",
    "version": 3
   },
   "file_extension": ".py",
   "mimetype": "text/x-python",
   "name": "python",
   "nbconvert_exporter": "python",
   "pygments_lexer": "ipython3",
   "version": "3.8.6"
  },
  "orig_nbformat": 4,
  "vscode": {
   "interpreter": {
    "hash": "c261aea317cc0286b3b3261fbba9abdec21eaa57589985bb7a274bf54d6cc0a7"
   }
  }
 },
 "nbformat": 4,
 "nbformat_minor": 2
}
