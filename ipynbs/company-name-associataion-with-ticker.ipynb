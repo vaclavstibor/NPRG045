{
 "cells": [
  {
   "cell_type": "markdown",
   "metadata": {},
   "source": [
    "# Associate Company Name With Ticker"
   ]
  },
  {
   "cell_type": "code",
   "execution_count": 1,
   "metadata": {},
   "outputs": [
    {
     "name": "stdout",
     "output_type": "stream",
     "text": [
      "Requirement already satisfied: pandas in /Library/Frameworks/Python.framework/Versions/3.8/lib/python3.8/site-packages (2.0.3)\n",
      "Requirement already satisfied: python-dateutil>=2.8.2 in /Library/Frameworks/Python.framework/Versions/3.8/lib/python3.8/site-packages (from pandas) (2.8.2)\n",
      "Requirement already satisfied: pytz>=2020.1 in /Library/Frameworks/Python.framework/Versions/3.8/lib/python3.8/site-packages (from pandas) (2022.7.1)\n",
      "Requirement already satisfied: tzdata>=2022.1 in /Library/Frameworks/Python.framework/Versions/3.8/lib/python3.8/site-packages (from pandas) (2023.3)\n",
      "Requirement already satisfied: numpy>=1.20.3 in /Library/Frameworks/Python.framework/Versions/3.8/lib/python3.8/site-packages (from pandas) (1.23.5)\n",
      "Requirement already satisfied: six>=1.5 in /Library/Frameworks/Python.framework/Versions/3.8/lib/python3.8/site-packages (from python-dateutil>=2.8.2->pandas) (1.16.0)\n",
      "Note: you may need to restart the kernel to use updated packages.\n",
      "Requirement already satisfied: name_matching in /Library/Frameworks/Python.framework/Versions/3.8/lib/python3.8/site-packages (0.8.9)\n",
      "Requirement already satisfied: cleanco in /Library/Frameworks/Python.framework/Versions/3.8/lib/python3.8/site-packages (from name_matching) (2.2)\n",
      "Requirement already satisfied: scikit-learn in /Library/Frameworks/Python.framework/Versions/3.8/lib/python3.8/site-packages (from name_matching) (1.1.3)\n",
      "Requirement already satisfied: pandas in /Library/Frameworks/Python.framework/Versions/3.8/lib/python3.8/site-packages (from name_matching) (2.0.3)\n",
      "Requirement already satisfied: numpy in /Library/Frameworks/Python.framework/Versions/3.8/lib/python3.8/site-packages (from name_matching) (1.23.5)\n",
      "Requirement already satisfied: tqdm in /Library/Frameworks/Python.framework/Versions/3.8/lib/python3.8/site-packages (from name_matching) (4.64.0)\n",
      "Requirement already satisfied: python-dateutil>=2.8.2 in /Library/Frameworks/Python.framework/Versions/3.8/lib/python3.8/site-packages (from pandas->name_matching) (2.8.2)\n",
      "Requirement already satisfied: pytz>=2020.1 in /Library/Frameworks/Python.framework/Versions/3.8/lib/python3.8/site-packages (from pandas->name_matching) (2022.7.1)\n",
      "Requirement already satisfied: tzdata>=2022.1 in /Library/Frameworks/Python.framework/Versions/3.8/lib/python3.8/site-packages (from pandas->name_matching) (2023.3)\n",
      "Requirement already satisfied: scipy>=1.3.2 in /Library/Frameworks/Python.framework/Versions/3.8/lib/python3.8/site-packages (from scikit-learn->name_matching) (1.9.3)\n",
      "Requirement already satisfied: joblib>=1.0.0 in /Library/Frameworks/Python.framework/Versions/3.8/lib/python3.8/site-packages (from scikit-learn->name_matching) (1.2.0)\n",
      "Requirement already satisfied: threadpoolctl>=2.0.0 in /Library/Frameworks/Python.framework/Versions/3.8/lib/python3.8/site-packages (from scikit-learn->name_matching) (3.1.0)\n",
      "Requirement already satisfied: six>=1.5 in /Library/Frameworks/Python.framework/Versions/3.8/lib/python3.8/site-packages (from python-dateutil>=2.8.2->pandas->name_matching) (1.16.0)\n",
      "Note: you may need to restart the kernel to use updated packages.\n"
     ]
    }
   ],
   "source": [
    "%pip install pandas\n",
    "%pip install name_matching"
   ]
  },
  {
   "cell_type": "markdown",
   "metadata": {},
   "source": [
    "## Dataset Preparation\n"
   ]
  },
  {
   "cell_type": "code",
   "execution_count": 2,
   "metadata": {},
   "outputs": [
    {
     "data": {
      "text/html": [
       "<div>\n",
       "<style scoped>\n",
       "    .dataframe tbody tr th:only-of-type {\n",
       "        vertical-align: middle;\n",
       "    }\n",
       "\n",
       "    .dataframe tbody tr th {\n",
       "        vertical-align: top;\n",
       "    }\n",
       "\n",
       "    .dataframe thead th {\n",
       "        text-align: right;\n",
       "    }\n",
       "</style>\n",
       "<table border=\"1\" class=\"dataframe\">\n",
       "  <thead>\n",
       "    <tr style=\"text-align: right;\">\n",
       "      <th></th>\n",
       "      <th>ticker</th>\n",
       "      <th>name</th>\n",
       "    </tr>\n",
       "  </thead>\n",
       "  <tbody>\n",
       "    <tr>\n",
       "      <th>0</th>\n",
       "      <td>AACG</td>\n",
       "      <td>Ata Creativity Global ADR</td>\n",
       "    </tr>\n",
       "    <tr>\n",
       "      <th>1</th>\n",
       "      <td>AACI</td>\n",
       "      <td>Armada Acquisition Corp I</td>\n",
       "    </tr>\n",
       "    <tr>\n",
       "      <th>2</th>\n",
       "      <td>AACIU</td>\n",
       "      <td>Armada Acquisition Corp I</td>\n",
       "    </tr>\n",
       "    <tr>\n",
       "      <th>3</th>\n",
       "      <td>AACIW</td>\n",
       "      <td>Armada Acquisition Corp I WT</td>\n",
       "    </tr>\n",
       "    <tr>\n",
       "      <th>4</th>\n",
       "      <td>AADI</td>\n",
       "      <td>Aadi Biosciences Inc</td>\n",
       "    </tr>\n",
       "  </tbody>\n",
       "</table>\n",
       "</div>"
      ],
      "text/plain": [
       "  ticker                          name\n",
       "0   AACG     Ata Creativity Global ADR\n",
       "1   AACI     Armada Acquisition Corp I\n",
       "2  AACIU     Armada Acquisition Corp I\n",
       "3  AACIW  Armada Acquisition Corp I WT\n",
       "4   AADI          Aadi Biosciences Inc"
      ]
     },
     "metadata": {},
     "output_type": "display_data"
    },
    {
     "data": {
      "text/html": [
       "<div>\n",
       "<style scoped>\n",
       "    .dataframe tbody tr th:only-of-type {\n",
       "        vertical-align: middle;\n",
       "    }\n",
       "\n",
       "    .dataframe tbody tr th {\n",
       "        vertical-align: top;\n",
       "    }\n",
       "\n",
       "    .dataframe thead th {\n",
       "        text-align: right;\n",
       "    }\n",
       "</style>\n",
       "<table border=\"1\" class=\"dataframe\">\n",
       "  <thead>\n",
       "    <tr style=\"text-align: right;\">\n",
       "      <th></th>\n",
       "      <th>ticker</th>\n",
       "      <th>name</th>\n",
       "    </tr>\n",
       "  </thead>\n",
       "  <tbody>\n",
       "    <tr>\n",
       "      <th>0</th>\n",
       "      <td>A</td>\n",
       "      <td>Agilent Technologies</td>\n",
       "    </tr>\n",
       "    <tr>\n",
       "      <th>1</th>\n",
       "      <td>AA</td>\n",
       "      <td>Alcoa Corp</td>\n",
       "    </tr>\n",
       "    <tr>\n",
       "      <th>2</th>\n",
       "      <td>AAC</td>\n",
       "      <td>Ares Acquisition Corp Cl A</td>\n",
       "    </tr>\n",
       "    <tr>\n",
       "      <th>3</th>\n",
       "      <td>AAC.S</td>\n",
       "      <td>Ares Acquisition Corp II [Aact.U]</td>\n",
       "    </tr>\n",
       "    <tr>\n",
       "      <th>4</th>\n",
       "      <td>AAC.T</td>\n",
       "      <td>Ares Acquisition Corp II [Aact.Ws]</td>\n",
       "    </tr>\n",
       "  </tbody>\n",
       "</table>\n",
       "</div>"
      ],
      "text/plain": [
       "  ticker                                name\n",
       "0      A                Agilent Technologies\n",
       "1     AA                          Alcoa Corp\n",
       "2    AAC          Ares Acquisition Corp Cl A\n",
       "3  AAC.S   Ares Acquisition Corp II [Aact.U]\n",
       "4  AAC.T  Ares Acquisition Corp II [Aact.Ws]"
      ]
     },
     "metadata": {},
     "output_type": "display_data"
    }
   ],
   "source": [
    "import pandas as pd\n",
    "import csv\n",
    "\n",
    "# Read the CSV file without considering quotes\n",
    "nasdaq_df = pd.read_csv(\n",
    "    \"data/symbols/nasdaq.csv\", sep=\"\\t\", quoting=csv.QUOTE_NONE, header=0\n",
    ")\n",
    "\n",
    "nyse_df = pd.read_csv(\n",
    "    \"data/symbols/nyse.csv\", sep=\"\\t\", quoting=csv.QUOTE_NONE, header=0\n",
    ")\n",
    "\n",
    "# Remove quotes from each column\n",
    "nasdaq_df = nasdaq_df.apply(lambda x: x.str.replace('\"', \"\"))\n",
    "nyse_df = nyse_df.apply(lambda x: x.str.replace('\"', \"\"))\n",
    "\n",
    "# Remove quotes from the column names\n",
    "nasdaq_df.columns = nasdaq_df.columns.str.replace('\"', \"\")\n",
    "nyse_df.columns = nyse_df.columns.str.replace('\"', \"\")\n",
    "\n",
    "# Rename the columns\n",
    "nasdaq_df.rename(columns={\"Symbol\": \"ticker\", \"Description\": \"name\"}, inplace=True)\n",
    "nyse_df.rename(columns={\"Symbol\": \"ticker\", \"Description\": \"name\"}, inplace=True)\n",
    "\n",
    "# Add an exchange column\n",
    "# nasdaq_df[\"exchange\"] = \"NASDAQ\"\n",
    "# nyse_df[\"exchange\"] = \"NYSE\"\n",
    "\n",
    "display(nasdaq_df.head())\n",
    "display(nyse_df.head())"
   ]
  },
  {
   "cell_type": "code",
   "execution_count": 3,
   "metadata": {},
   "outputs": [
    {
     "data": {
      "text/html": [
       "<div>\n",
       "<style scoped>\n",
       "    .dataframe tbody tr th:only-of-type {\n",
       "        vertical-align: middle;\n",
       "    }\n",
       "\n",
       "    .dataframe tbody tr th {\n",
       "        vertical-align: top;\n",
       "    }\n",
       "\n",
       "    .dataframe thead th {\n",
       "        text-align: right;\n",
       "    }\n",
       "</style>\n",
       "<table border=\"1\" class=\"dataframe\">\n",
       "  <thead>\n",
       "    <tr style=\"text-align: right;\">\n",
       "      <th></th>\n",
       "      <th>ticker</th>\n",
       "      <th>name</th>\n",
       "    </tr>\n",
       "  </thead>\n",
       "  <tbody>\n",
       "    <tr>\n",
       "      <th>0</th>\n",
       "      <td>A</td>\n",
       "      <td>Agilent Technologies</td>\n",
       "    </tr>\n",
       "    <tr>\n",
       "      <th>1</th>\n",
       "      <td>AA</td>\n",
       "      <td>Alcoa Corp</td>\n",
       "    </tr>\n",
       "    <tr>\n",
       "      <th>2</th>\n",
       "      <td>AAC</td>\n",
       "      <td>Ares Acquisition Corp Cl A</td>\n",
       "    </tr>\n",
       "    <tr>\n",
       "      <th>3</th>\n",
       "      <td>AAC.S</td>\n",
       "      <td>Ares Acquisition Corp II [Aact.U]</td>\n",
       "    </tr>\n",
       "    <tr>\n",
       "      <th>4</th>\n",
       "      <td>AAC.T</td>\n",
       "      <td>Ares Acquisition Corp II [Aact.Ws]</td>\n",
       "    </tr>\n",
       "    <tr>\n",
       "      <th>...</th>\n",
       "      <td>...</td>\n",
       "      <td>...</td>\n",
       "    </tr>\n",
       "    <tr>\n",
       "      <th>8169</th>\n",
       "      <td>ZVRA</td>\n",
       "      <td>Zevra Therapeutics Inc</td>\n",
       "    </tr>\n",
       "    <tr>\n",
       "      <th>8170</th>\n",
       "      <td>ZVSA</td>\n",
       "      <td>Zyversa Therapeutics Inc</td>\n",
       "    </tr>\n",
       "    <tr>\n",
       "      <th>8171</th>\n",
       "      <td>ZWS</td>\n",
       "      <td>Zurn Elkay Water Solutions Corp</td>\n",
       "    </tr>\n",
       "    <tr>\n",
       "      <th>8172</th>\n",
       "      <td>ZYME</td>\n",
       "      <td>Zymeworks Inc</td>\n",
       "    </tr>\n",
       "    <tr>\n",
       "      <th>8173</th>\n",
       "      <td>ZYXI</td>\n",
       "      <td>Zynex Inc</td>\n",
       "    </tr>\n",
       "  </tbody>\n",
       "</table>\n",
       "<p>8174 rows × 2 columns</p>\n",
       "</div>"
      ],
      "text/plain": [
       "     ticker                                name\n",
       "0         A                Agilent Technologies\n",
       "1        AA                          Alcoa Corp\n",
       "2       AAC          Ares Acquisition Corp Cl A\n",
       "3     AAC.S   Ares Acquisition Corp II [Aact.U]\n",
       "4     AAC.T  Ares Acquisition Corp II [Aact.Ws]\n",
       "...     ...                                 ...\n",
       "8169   ZVRA              Zevra Therapeutics Inc\n",
       "8170   ZVSA            Zyversa Therapeutics Inc\n",
       "8171    ZWS     Zurn Elkay Water Solutions Corp\n",
       "8172   ZYME                       Zymeworks Inc\n",
       "8173   ZYXI                           Zynex Inc\n",
       "\n",
       "[8174 rows x 2 columns]"
      ]
     },
     "metadata": {},
     "output_type": "display_data"
    }
   ],
   "source": [
    "# Concatenate the two dataframes into a single dataframe with alphabetical order\n",
    "tickers_df = pd.concat([nasdaq_df, nyse_df]).sort_values(by=\"ticker\")\n",
    "\n",
    "# Drop NaN values\n",
    "tickers_df.dropna(inplace=True)\n",
    "\n",
    "# Reset the index\n",
    "tickers_df.reset_index(drop=True, inplace=True)\n",
    "\n",
    "# Save the dataframe to a CSV file\n",
    "tickers_df.to_csv(\"data/symbols/NYSE_NASDAQ_Merged.csv\", index=False)\n",
    "\n",
    "display(tickers_df)"
   ]
  },
  {
   "cell_type": "code",
   "execution_count": 4,
   "metadata": {},
   "outputs": [
    {
     "data": {
      "text/html": [
       "<div>\n",
       "<style scoped>\n",
       "    .dataframe tbody tr th:only-of-type {\n",
       "        vertical-align: middle;\n",
       "    }\n",
       "\n",
       "    .dataframe tbody tr th {\n",
       "        vertical-align: top;\n",
       "    }\n",
       "\n",
       "    .dataframe thead th {\n",
       "        text-align: right;\n",
       "    }\n",
       "</style>\n",
       "<table border=\"1\" class=\"dataframe\">\n",
       "  <thead>\n",
       "    <tr style=\"text-align: right;\">\n",
       "      <th></th>\n",
       "      <th>ticker</th>\n",
       "      <th>name</th>\n",
       "    </tr>\n",
       "  </thead>\n",
       "  <tbody>\n",
       "    <tr>\n",
       "      <th>26</th>\n",
       "      <td>AAPL</td>\n",
       "      <td>Apple Inc</td>\n",
       "    </tr>\n",
       "  </tbody>\n",
       "</table>\n",
       "</div>"
      ],
      "text/plain": [
       "   ticker       name\n",
       "26   AAPL  Apple Inc"
      ]
     },
     "metadata": {},
     "output_type": "display_data"
    }
   ],
   "source": [
    "# Display AAPL from ticker_df\n",
    "display(tickers_df[tickers_df[\"ticker\"] == \"AAPL\"])"
   ]
  },
  {
   "cell_type": "markdown",
   "metadata": {},
   "source": [
    "## Name matching library\n",
    "- source: https://github.com/DeNederlandscheBank/name_matching\n",
    "- article about it: https://medium.com/dnb-data-science-hub/company-name-matching-6a6330710334\n"
   ]
  },
  {
   "cell_type": "code",
   "execution_count": 11,
   "metadata": {},
   "outputs": [],
   "source": [
    "from name_matching.name_matcher import NameMatcher\n",
    "import pandas as pd\n",
    "from typing import List, Dict\n",
    "\n",
    "\n",
    "class Matcher:\n",
    "    \"\"\"\n",
    "    A class to match company names to tickers.\n",
    "    \"\"\"\n",
    "\n",
    "    def __init__(self):\n",
    "        self.tickers_df = pd.read_csv(\"data/symbols/NYSE_NASDAQ_Merged.csv\")\n",
    "        self.min_score = 90\n",
    "        self.instance = NameMatcher(\n",
    "            number_of_matches=1,\n",
    "            lowercase=True,\n",
    "            punctuations=True,\n",
    "            remove_ascii=False,\n",
    "            legal_suffixes=True,\n",
    "            common_words=False,\n",
    "            verbose=True,\n",
    "        )\n",
    "\n",
    "        self.instance.set_distance_metrics(\n",
    "            [\"discounted_levenshtein\", \"fuzzy_wuzzy_partial_string\"]\n",
    "        )\n",
    "\n",
    "        self.instance.load_and_process_master_data(\"name\", self.tickers_df)\n",
    "\n",
    "    def match_ticker(self, company_names: List[str]) -> pd.DataFrame:\n",
    "        \"\"\"\n",
    "        Matches company names to tickers based on a given list of company names.\n",
    "\n",
    "        Args:\n",
    "            company_names (List[str]): A list of company names to be matched.\n",
    "\n",
    "        Returns:\n",
    "            pd.DataFrame: A dataframe containing the matched company names and their corresponding tickers.\n",
    "        \"\"\"\n",
    "\n",
    "        # Create a dataframe with the company names\n",
    "        company_names_df = pd.DataFrame(company_names, columns=[\"name\"])\n",
    "\n",
    "        # Match the company names\n",
    "        matches_df = self.instance.match_names(\n",
    "            to_be_matched=company_names_df, column_matching=\"name\"\n",
    "        )\n",
    "\n",
    "        return matches_df\n",
    "\n",
    "    def postprocess_matches(self, matches_df: pd.DataFrame) -> Dict[str, str]:\n",
    "        \"\"\"\n",
    "        Postprocesses the matches DataFrame and returns a dictionary with company names as keys and tickers as values.\n",
    "\n",
    "        Args:\n",
    "            matches_df (pd.DataFrame): The DataFrame containing the matches.\n",
    "\n",
    "        Returns:\n",
    "            dict: A dictionary with company names as keys and tickers as values.\n",
    "        \"\"\"\n",
    "        # Drop the matches with a score higher than 50 (score is ranging from 0 to 100)\n",
    "        matches_df = matches_df[matches_df[\"score\"] > self.min_score]\n",
    "\n",
    "        # Drop the columns that are not needed\n",
    "        matches_df = matches_df.drop(columns=[\"score\", \"match_name\"])\n",
    "\n",
    "        # Map the match_index to index in the tickers_df\n",
    "        matches_df.loc[:, \"ticker\"] = matches_df[\"match_index\"].apply(\n",
    "            lambda x: self.tickers_df.iloc[x][\"ticker\"]\n",
    "        )\n",
    "\n",
    "        # Create dictionary with the company names and the ticker\n",
    "        matches_dict = matches_df.set_index(\"original_name\")[\"ticker\"].to_dict()\n",
    "\n",
    "        return matches_dict\n",
    "\n",
    "\n",
    "matcher = Matcher()"
   ]
  },
  {
   "cell_type": "code",
   "execution_count": 12,
   "metadata": {},
   "outputs": [
    {
     "name": "stdout",
     "output_type": "stream",
     "text": [
      "preprocessing...\n",
      "\n",
      "preprocessing complete \n",
      " searching for matches...\n",
      "\n"
     ]
    },
    {
     "name": "stderr",
     "output_type": "stream",
     "text": [
      "100%|██████████| 1/1 [00:00<00:00, 629.30it/s]\n"
     ]
    },
    {
     "name": "stdout",
     "output_type": "stream",
     "text": [
      "possible matches found   \n",
      " fuzzy matching...\n",
      "\n"
     ]
    },
    {
     "name": "stderr",
     "output_type": "stream",
     "text": [
      "100%|██████████| 4/4 [00:00<00:00, 34.92it/s]"
     ]
    },
    {
     "name": "stdout",
     "output_type": "stream",
     "text": [
      "done\n"
     ]
    },
    {
     "name": "stderr",
     "output_type": "stream",
     "text": [
      "\n"
     ]
    },
    {
     "data": {
      "text/html": [
       "<div>\n",
       "<style scoped>\n",
       "    .dataframe tbody tr th:only-of-type {\n",
       "        vertical-align: middle;\n",
       "    }\n",
       "\n",
       "    .dataframe tbody tr th {\n",
       "        vertical-align: top;\n",
       "    }\n",
       "\n",
       "    .dataframe thead th {\n",
       "        text-align: right;\n",
       "    }\n",
       "</style>\n",
       "<table border=\"1\" class=\"dataframe\">\n",
       "  <thead>\n",
       "    <tr style=\"text-align: right;\">\n",
       "      <th></th>\n",
       "      <th>original_name</th>\n",
       "      <th>match_name</th>\n",
       "      <th>score</th>\n",
       "      <th>match_index</th>\n",
       "    </tr>\n",
       "  </thead>\n",
       "  <tbody>\n",
       "    <tr>\n",
       "      <th>0</th>\n",
       "      <td>apple</td>\n",
       "      <td>apple inc</td>\n",
       "      <td>100.000000</td>\n",
       "      <td>26</td>\n",
       "    </tr>\n",
       "    <tr>\n",
       "      <th>1</th>\n",
       "      <td>dell</td>\n",
       "      <td>dell technologies inc</td>\n",
       "      <td>67.505619</td>\n",
       "      <td>2119</td>\n",
       "    </tr>\n",
       "    <tr>\n",
       "      <th>2</th>\n",
       "      <td>razer</td>\n",
       "      <td>parazero technologies ltd</td>\n",
       "      <td>65.377932</td>\n",
       "      <td>5989</td>\n",
       "    </tr>\n",
       "    <tr>\n",
       "      <th>3</th>\n",
       "      <td>amd</td>\n",
       "      <td>amdocs ltd ord</td>\n",
       "      <td>70.045197</td>\n",
       "      <td>2236</td>\n",
       "    </tr>\n",
       "  </tbody>\n",
       "</table>\n",
       "</div>"
      ],
      "text/plain": [
       "  original_name                 match_name       score  match_index\n",
       "0         apple                  apple inc  100.000000           26\n",
       "1          dell      dell technologies inc   67.505619         2119\n",
       "2         razer  parazero technologies ltd   65.377932         5989\n",
       "3           amd             amdocs ltd ord   70.045197         2236"
      ]
     },
     "metadata": {},
     "output_type": "display_data"
    },
    {
     "data": {
      "text/plain": [
       "{'apple': 'AAPL'}"
      ]
     },
     "metadata": {},
     "output_type": "display_data"
    }
   ],
   "source": [
    "# List of company names to match with tickers\n",
    "company_names = [\"apple\", \"dell\", \"razer\", \"AMD\"]\n",
    "\n",
    "matches_raw_result = matcher.match_ticker(company_names)\n",
    "display(matches_raw_result)\n",
    "matches = matcher.postprocess_matches(matches_raw_result)\n",
    "display(matches)"
   ]
  },
  {
   "cell_type": "markdown",
   "metadata": {},
   "source": [
    "# Comp-Match library\n"
   ]
  },
  {
   "cell_type": "markdown",
   "metadata": {},
   "source": [
    "Dose not work, because it is not possible to install the library. (Additionaly package was not updated for 6 years)\n",
    "- source: https://github.com/franklingu/comp-match\n"
   ]
  },
  {
   "cell_type": "code",
   "execution_count": 7,
   "metadata": {},
   "outputs": [
    {
     "name": "stdout",
     "output_type": "stream",
     "text": [
      "Requirement already satisfied: comp-match in /Library/Frameworks/Python.framework/Versions/3.8/lib/python3.8/site-packages (0.0.0.dev0)\n",
      "Requirement already satisfied: lxml>=3.7.3 in /Library/Frameworks/Python.framework/Versions/3.8/lib/python3.8/site-packages (from comp-match) (4.9.3)\n",
      "Requirement already satisfied: requests>=2.13.0 in /Library/Frameworks/Python.framework/Versions/3.8/lib/python3.8/site-packages (from comp-match) (2.31.0)\n",
      "Requirement already satisfied: charset-normalizer<4,>=2 in /Library/Frameworks/Python.framework/Versions/3.8/lib/python3.8/site-packages (from requests>=2.13.0->comp-match) (2.1.1)\n",
      "Requirement already satisfied: idna<4,>=2.5 in /Library/Frameworks/Python.framework/Versions/3.8/lib/python3.8/site-packages (from requests>=2.13.0->comp-match) (3.4)\n",
      "Requirement already satisfied: urllib3<3,>=1.21.1 in /Library/Frameworks/Python.framework/Versions/3.8/lib/python3.8/site-packages (from requests>=2.13.0->comp-match) (1.26.14)\n",
      "Requirement already satisfied: certifi>=2017.4.17 in /Library/Frameworks/Python.framework/Versions/3.8/lib/python3.8/site-packages (from requests>=2.13.0->comp-match) (2022.12.7)\n",
      "Note: you may need to restart the kernel to use updated packages.\n"
     ]
    }
   ],
   "source": [
    "%pip install comp-match"
   ]
  },
  {
   "cell_type": "code",
   "execution_count": 8,
   "metadata": {},
   "outputs": [
    {
     "ename": "ModuleNotFoundError",
     "evalue": "No module named 'comp_match'",
     "output_type": "error",
     "traceback": [
      "\u001b[0;31m---------------------------------------------------------------------------\u001b[0m",
      "\u001b[0;31mModuleNotFoundError\u001b[0m                       Traceback (most recent call last)",
      "Cell \u001b[0;32mIn [8], line 1\u001b[0m\n\u001b[0;32m----> 1\u001b[0m \u001b[38;5;28;01mimport\u001b[39;00m \u001b[38;5;21;01mcomp_match\u001b[39;00m\n\u001b[1;32m      3\u001b[0m \u001b[38;5;28mprint\u001b[39m(comp_match\u001b[38;5;241m.\u001b[39m__version__)\n",
      "\u001b[0;31mModuleNotFoundError\u001b[0m: No module named 'comp_match'"
     ]
    }
   ],
   "source": [
    "import comp_match\n",
    "\n",
    "print(comp_match.__version__)"
   ]
  },
  {
   "cell_type": "code",
   "execution_count": null,
   "metadata": {},
   "outputs": [],
   "source": [
    "import comp_match\n",
    "\n",
    "comp_match.match([\"Apple\", \"Google\", \"Facebook\", \"CitiBank\"])"
   ]
  },
  {
   "cell_type": "markdown",
   "metadata": {},
   "source": [
    "## Spark NLP"
   ]
  },
  {
   "cell_type": "markdown",
   "metadata": {},
   "source": [
    "Spark NLP nabízí pouze pouze natrénovaný model pro NASDAQ.csv"
   ]
  },
  {
   "cell_type": "code",
   "execution_count": 4,
   "metadata": {},
   "outputs": [
    {
     "name": "stderr",
     "output_type": "stream",
     "text": [
      "/Library/Frameworks/Python.framework/Versions/3.8/lib/python3.8/site-packages/tqdm/auto.py:22: TqdmWarning: IProgress not found. Please update jupyter and ipywidgets. See https://ipywidgets.readthedocs.io/en/stable/user_install.html\n",
      "  from .autonotebook import tqdm as notebook_tqdm\n",
      "Downloading: 100%|██████████| 0.99M/0.99M [00:00<00:00, 2.07MB/s]\n",
      "Downloading: 100%|██████████| 446k/446k [00:00<00:00, 1.48MB/s]\n",
      "Downloading: 100%|██████████| 26.0/26.0 [00:00<00:00, 6.98kB/s]\n",
      "Downloading: 100%|██████████| 1.29M/1.29M [00:00<00:00, 2.93MB/s]\n",
      "Downloading: 100%|██████████| 665/665 [00:00<00:00, 407kB/s]\n",
      "Downloading: 100%|██████████| 523M/523M [03:38<00:00, 2.51MB/s] \n",
      "Setting `pad_token_id` to `eos_token_id`:50256 for open-end generation.\n"
     ]
    },
    {
     "name": "stdout",
     "output_type": "stream",
     "text": [
      "In a world where the world is so much more diverse, it's important to understand that the world is not always as diverse as we think it is.\n",
      "\n",
      "\"We're not always going to be able to see the world in the same way that we see the world in the movies. We're going to be able to see the world in a different way. We're going to be able to see the world in a different way. We're going to be able to see the world in\n"
     ]
    }
   ],
   "source": [
    "from transformers import GPT2LMHeadModel, GPT2Tokenizer\n",
    "\n",
    "# Initialize the tokenizer and model\n",
    "tokenizer = GPT2Tokenizer.from_pretrained(\"gpt2\")\n",
    "model = GPT2LMHeadModel.from_pretrained(\"gpt2\")"
   ]
  },
  {
   "cell_type": "code",
   "execution_count": 12,
   "metadata": {},
   "outputs": [
    {
     "name": "stderr",
     "output_type": "stream",
     "text": [
      "Setting `pad_token_id` to `eos_token_id`:50256 for open-end generation.\n"
     ]
    },
    {
     "name": "stdout",
     "output_type": "stream",
     "text": [
      "Give me Apple Inc. identifier (for Dell Inc. it is DELL).\n",
      "\n",
      "I have a Dell computer with a Dell logo on it.\n",
      "\n",
      "I have a Dell logo on my laptop.\n",
      "\n",
      "I have a Dell logo on my laptop.\n",
      "\n",
      "I have a Dell logo on my laptop.\n",
      "\n",
      "I have a Dell logo on my laptop.\n",
      "\n",
      "I have a Dell logo on my laptop.\n",
      "\n",
      "I have a Dell logo on my laptop.\n",
      "\n",
      "I have\n"
     ]
    }
   ],
   "source": [
    "# Define a prompt\n",
    "prompt = \"Give me Apple Inc. identifier (for Dell Inc. it is DELL).\"\n",
    "\n",
    "# Encode the prompt and generate text\n",
    "inputs = tokenizer.encode(prompt, return_tensors=\"pt\")\n",
    "outputs = model.generate(inputs, max_length=100, temperature=0.7, num_return_sequences=1)\n",
    "\n",
    "# Decode the output\n",
    "text = tokenizer.decode(outputs[0], skip_special_tokens=True)\n",
    "\n",
    "print(text)"
   ]
  }
 ],
 "metadata": {
  "kernelspec": {
   "display_name": "Python 3",
   "language": "python",
   "name": "python3"
  },
  "language_info": {
   "codemirror_mode": {
    "name": "ipython",
    "version": 3
   },
   "file_extension": ".py",
   "mimetype": "text/x-python",
   "name": "python",
   "nbconvert_exporter": "python",
   "pygments_lexer": "ipython3",
   "version": "3.8.6"
  }
 },
 "nbformat": 4,
 "nbformat_minor": 2
}
