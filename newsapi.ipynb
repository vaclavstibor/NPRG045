{
 "cells": [
  {
   "cell_type": "code",
   "execution_count": 112,
   "metadata": {},
   "outputs": [],
   "source": [
    "from newsapi import  NewsApiClient\n",
    "from datetime import date, timedelta"
   ]
  },
  {
   "cell_type": "code",
   "execution_count": 113,
   "metadata": {},
   "outputs": [
    {
     "name": "stdout",
     "output_type": "stream",
     "text": [
      "The Best Prime Day Deals on Apple Devices | 2023-07-11T15:30:00Z | https://lifehacker.com/the-best-prime-day-deals-on-apple-devices-1850545590\n",
      "The best Amazon Prime Day deals you can get | 2023-07-11T12:00:00Z | https://www.theverge.com/23787479/amazon-prime-day-best-deals-tech-gadgets-laptops-tvs-earbuds-2023\n",
      "Bestselling Prime Day deals that are still in stock, according to Amazon | 2023-07-12T18:45:18Z | https://arstechnica.com/shopping/2023/07/best-selling-prime-day-deals-that-are-still-in-stock-according-to-amazon/\n",
      "What tech boom? A homebuilder, 3 cruise lines, and Chipotle have all outperformed Apple and Microsoft on the S&P 500 this year | 2023-07-11T09:05:15Z | https://markets.businessinsider.com/news/stocks/us-stocks-homebuilder-cruises-chipotle-outperforming-apple-netflix-2023-7\n",
      "Apple Card Review 2023 | 2023-07-14T21:17:06Z | https://www.businessinsider.com/personal-finance/apple-card-review\n"
     ]
    }
   ],
   "source": [
    "query = 'Apple stock'\n",
    "newsapi = NewsApiClient(api_key='api_key')\n",
    "time_period = date.today() - timedelta(days = 7)\n",
    "articles = newsapi.get_everything(q=query,\n",
    "                                  from_param = time_period.isoformat(),\n",
    "                                  language = 'en',\n",
    "                                  sort_by = 'relevancy',\n",
    "                                  page_size = 5)\n",
    "                            \n",
    "for article in articles['articles']:\n",
    "    print(article['title'] + \" | \" + article['publishedAt'] + \" | \" + article['url'])"
   ]
  },
  {
   "cell_type": "markdown",
   "metadata": {},
   "source": [
    "___"
   ]
  },
  {
   "cell_type": "code",
   "execution_count": 114,
   "metadata": {},
   "outputs": [],
   "source": [
    "import sys\n",
    "import nltk\n",
    "from nltk.sentiment.vader import SentimentIntensityAnalyzer\n",
    "from newsapi import NewsApiClient\n",
    "from datetime import date, timedelta, datetime\n",
    "import matplotlib.pyplot as plt\n",
    "import numpy as np\n",
    "import pandas as pd\n",
    "import yfinance as yf\n",
    "\n",
    "#nltk.download('vader_lexicon')\n",
    "\n",
    "pd.set_option('display.max_colwidth',1000)\n",
    "\n",
    "SIA = SentimentIntensityAnalyzer()"
   ]
  },
  {
   "cell_type": "code",
   "execution_count": 115,
   "metadata": {},
   "outputs": [
    {
     "data": {
      "text/plain": [
       "81"
      ]
     },
     "execution_count": 115,
     "metadata": {},
     "output_type": "execute_result"
    }
   ],
   "source": [
    "# Retrieves a list of news sources based on the specified category.\n",
    "def get_sources(category = None):\n",
    "  newsapi = NewsApiClient(api_key='api_key')\n",
    "  sources = newsapi.get_sources()\n",
    "  \n",
    "  if category is not None:\n",
    "    result = [source['id'] for source in sources['sources'] if source['category'] == category and source['language'] == 'en']\n",
    "  else:\n",
    "    result = [source['id'] for source in sources['sources'] if source['language'] == 'en']\n",
    "  \n",
    "  return result\n",
    "\n",
    "len(get_sources())  "
   ]
  },
  {
   "cell_type": "code",
   "execution_count": 116,
   "metadata": {},
   "outputs": [
    {
     "data": {
      "text/plain": [
       "['australian-financial-review',\n",
       " 'bloomberg',\n",
       " 'business-insider',\n",
       " 'business-insider-uk',\n",
       " 'financial-post',\n",
       " 'fortune',\n",
       " 'the-wall-street-journal']"
      ]
     },
     "execution_count": 116,
     "metadata": {},
     "output_type": "execute_result"
    }
   ],
   "source": [
    "#Get the list of the business news sources\n",
    "\n",
    "get_sources('business')"
   ]
  },
  {
   "cell_type": "code",
   "execution_count": 117,
   "metadata": {},
   "outputs": [
    {
     "name": "stdout",
     "output_type": "stream",
     "text": [
      "17-Jun-2023\n"
     ]
    }
   ],
   "source": [
    "time_period = (date.today() - timedelta(days = 30)).isoformat()\n",
    "\n",
    "time_object = datetime.strptime(time_period, '%Y-%m-%d')\n",
    "\n",
    "time_period = time_object.strftime('%d-%b-%Y')\n",
    "\n",
    "print(time_period)"
   ]
  },
  {
   "cell_type": "code",
   "execution_count": 122,
   "metadata": {},
   "outputs": [],
   "source": [
    "def get_articles_sentiments(keywrd, startd, sources_list=None, show_all_articles=False):\n",
    "    newsapi = NewsApiClient(api_key='api_key')\n",
    "\n",
    "    if type(startd) == str:\n",
    "        my_date = datetime.strptime(startd, '%d-%b-%Y')\n",
    "    else:\n",
    "        my_date = startd\n",
    "\n",
    "    if sources_list:\n",
    "        articles = newsapi.get_everything(\n",
    "            q=keywrd, from_param=my_date.isoformat(), to=(my_date + timedelta(days=30)).isoformat(),\n",
    "            language=\"en\", sources=\",\".join(sources_list), sort_by=\"relevancy\", page_size=100\n",
    "        )\n",
    "    else:\n",
    "        articles = newsapi.get_everything(\n",
    "            q=keywrd, from_param=my_date.isoformat(), to=(my_date + timedelta(days=30)).isoformat(),\n",
    "            language=\"en\", sort_by=\"relevancy\", page_size=100\n",
    "        )\n",
    "\n",
    "    article_content = ''\n",
    "    date_sentiments = {}\n",
    "    date_sentiments_list = []\n",
    "    seen = set()\n",
    "\n",
    "    for article in articles['articles']:\n",
    "        if str(article['title']) in seen:\n",
    "            continue\n",
    "        else:\n",
    "            seen.add(str(article['title']))\n",
    "\n",
    "        article_content = str(article['title']) + '. ' + str(article['description'])\n",
    "        sentiment = SIA.polarity_scores(article_content)['compound']\n",
    "\n",
    "        date_sentiments.setdefault(my_date, []).append(sentiment)\n",
    "        date_sentiments_list.append((sentiment, article['url'], article['title'], article['description']))\n",
    "\n",
    "    date_sentiments_l = sorted(date_sentiments_list, key=lambda tup: tup[0], reverse=True)\n",
    "    sent_list = list(date_sentiments.values())[0]\n",
    "\n",
    "    return pd.DataFrame(date_sentiments_list, columns=['Sentiment', 'URL', 'Title', 'Description'])\n"
   ]
  },
  {
   "cell_type": "code",
   "execution_count": 119,
   "metadata": {},
   "outputs": [
    {
     "name": "stdout",
     "output_type": "stream",
     "text": [
      "0.219212\n",
      "100\n",
      "0         Nvidia's stellar rally so far has dominated the US stock market, but the company's stock price is overvalued even considering its bright future.\n",
      "1                                               Insider's Phil Rosen breaks down the central bank chairman's testimony and how the stock market responded.\n",
      "2                                                 Even a shallow recession could wreak havoc on stock prices, \"Dr. Doom\" economist Nouriel Roubini warned.\n",
      "3     Morgan Stanley's Adam Jonas slashed his Tesla rating Thursday, warning earnings could fall as Elon Musk's EV maker presses ahead with its price war.\n",
      "4     Fundstrat expects low inflation readings to continue throughout the summer, which would embolden investors who expect a soft landing in the economy.\n",
      "                                                                              ...                                                                         \n",
      "95        \"We reckon that the excess liquid assets held by the Baby Boomers alone ranged between $1.0 to $2.0 trillion at the end of Q1,\" Ed Yardeni said.\n",
      "96                              \"If the deal goes through, we make some money,\" Warren Buffett said last year of Berkshire Hathaway's stake in Activision.\n",
      "97                          Warren Buffett's wife appears to share her husband's frugal nature, which has shaped his investing, dealmaking, and lifestyle.\n",
      "98        \"Although policy is restrictive, it may not be restrictive enough and it has not been restricted for long enough,\" Fed Chair Jerome Powell said.\n",
      "99                                           Insider's Phil Rosen breaks down your Saturday roundup for stocks, housing, commercial real estate, and more.\n",
      "Name: Description, Length: 100, dtype: object\n"
     ]
    },
    {
     "data": {
      "image/png": "[encoded data removed]",
      "text/plain": [
       "<Figure size 640x480 with 1 Axes>"
      ]
     },
     "metadata": {},
     "output_type": "display_data"
    }
   ],
   "source": [
    "sources = get_sources('business')\n",
    "return_articles = get_articles_sentiments('stock',time_period,sources_list = sources, show_all_articles = True)\n",
    "return_articles.Sentiment.hist(bins = 30, grid = False)\n",
    "\n",
    "print(return_articles.Sentiment.mean())\n",
    "\n",
    "print(return_articles.Sentiment.count())\n",
    "\n",
    "print(return_articles.Description)"
   ]
  },
  {
   "cell_type": "code",
   "execution_count": 121,
   "metadata": {},
   "outputs": [
    {
     "data": {
      "text/html": [
       "<div>\n",
       "<style scoped>\n",
       "    .dataframe tbody tr th:only-of-type {\n",
       "        vertical-align: middle;\n",
       "    }\n",
       "\n",
       "    .dataframe tbody tr th {\n",
       "        vertical-align: top;\n",
       "    }\n",
       "\n",
       "    .dataframe thead th {\n",
       "        text-align: right;\n",
       "    }\n",
       "</style>\n",
       "<table border=\"1\" class=\"dataframe\">\n",
       "  <thead>\n",
       "    <tr style=\"text-align: right;\">\n",
       "      <th></th>\n",
       "      <th>Sentiment</th>\n",
       "      <th>URL</th>\n",
       "    </tr>\n",
       "  </thead>\n",
       "  <tbody>\n",
       "    <tr>\n",
       "      <th>80</th>\n",
       "      <td>-0.9643</td>\n",
       "      <td>https://markets.businessinsider.com/news/stocks/jeremy-grantham-gmo-superbubble-ai-stocks-housing-market-bubble-crash-2023-7</td>\n",
       "    </tr>\n",
       "    <tr>\n",
       "      <th>2</th>\n",
       "      <td>-0.9393</td>\n",
       "      <td>https://markets.businessinsider.com/news/stocks/nouriel-roubini-economy-recession-tropical-storm-financial-crisis-dr-doom-2023-6</td>\n",
       "    </tr>\n",
       "  </tbody>\n",
       "</table>\n",
       "</div>"
      ],
      "text/plain": [
       "    Sentiment  \\\n",
       "80    -0.9643   \n",
       "2     -0.9393   \n",
       "\n",
       "                                                                                                                                 URL  \n",
       "80      https://markets.businessinsider.com/news/stocks/jeremy-grantham-gmo-superbubble-ai-stocks-housing-market-bubble-crash-2023-7  \n",
       "2   https://markets.businessinsider.com/news/stocks/nouriel-roubini-economy-recession-tropical-storm-financial-crisis-dr-doom-2023-6  "
      ]
     },
     "execution_count": 121,
     "metadata": {},
     "output_type": "execute_result"
    }
   ],
   "source": [
    "return_articles.sort_values(by='Sentiment', ascending=True)[['Sentiment','URL']].head(2)"
   ]
  }
 ],
 "metadata": {
  "interpreter": {
   "hash": "aee8b7b246df8f9039afb4144a1f6fd8d2ca17a180786b69acc140d282b71a49"
  },
  "kernelspec": {
   "display_name": "Python 3.8.6 64-bit",
   "language": "python",
   "name": "python3"
  },
  "language_info": {
   "codemirror_mode": {
    "name": "ipython",
    "version": 3
   },
   "file_extension": ".py",
   "mimetype": "text/x-python",
   "name": "python",
   "nbconvert_exporter": "python",
   "pygments_lexer": "ipython3",
   "version": "3.8.6"
  },
  "orig_nbformat": 4
 },
 "nbformat": 4,
 "nbformat_minor": 2
}
