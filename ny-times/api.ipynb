{
 "cells": [
  {
   "cell_type": "code",
   "execution_count": 46,
   "metadata": {},
   "outputs": [],
   "source": [
    "import newspaper\n",
    "import requests\n",
    "import json"
   ]
  },
  {
   "cell_type": "code",
   "execution_count": 47,
   "metadata": {},
   "outputs": [
    {
     "name": "stdout",
     "output_type": "stream",
     "text": [
      "<Response [200]>\n"
     ]
    }
   ],
   "source": [
    "url = \"https://api.nytimes.com/svc/news/v3/content/all/business.json?api-key=hXL6rrl2tCc8LhzjeypEjHvAUEpKz1CG\"\n",
    "r = requests.get(url)\n",
    "\n",
    "print(r)"
   ]
  },
  {
   "cell_type": "code",
   "execution_count": 48,
   "metadata": {},
   "outputs": [],
   "source": [
    "all_business = json.loads(r.content)\n",
    "#(json.dumps(parsed, indent=4))\n",
    "\n",
    "with open('./output/all/business.json', 'w', encoding='utf-8') as f:\n",
    "    json.dump(all_business, f, ensure_ascii=False, indent=4)"
   ]
  },
  {
   "cell_type": "code",
   "execution_count": null,
   "metadata": {},
   "outputs": [],
   "source": [
    "def print_scrape_status(count):\n",
    "    print(f\"Scraped {count} articles\", end=\"\\r\")\n",
    "\n",
    "def scrape(data):\n",
    "    counter = 0\n",
    "    for article in data['results']:\n",
    "        url = article['url']\n",
    "        try:\n",
    "            content = newspaper.Article(url)\n",
    "            content.download()\n",
    "            content.parse()  \n",
    "            content.nlp()\n",
    "            try:\n",
    "                article['body'] = content.text\n",
    "                article['summary'] = content.summary\n",
    "                counter += 1\n",
    "                print_scrape_status(counter)\n",
    "            except Exception as e:\n",
    "                print(e)\n",
    "                print('continuing...')\n",
    "        except Exception as e: \n",
    "            print(e)\n",
    "            print('continuing...')\n",
    "    return data \n",
    "\n",
    "all_business_scraped = scrape(all_business)\n"
   ]
  }
 ],
 "metadata": {
  "interpreter": {
   "hash": "aee8b7b246df8f9039afb4144a1f6fd8d2ca17a180786b69acc140d282b71a49"
  },
  "kernelspec": {
   "display_name": "Python 3.8.6 64-bit",
   "language": "python",
   "name": "python3"
  },
  "language_info": {
   "codemirror_mode": {
    "name": "ipython",
    "version": 3
   },
   "file_extension": ".py",
   "mimetype": "text/x-python",
   "name": "python",
   "nbconvert_exporter": "python",
   "pygments_lexer": "ipython3",
   "version": "3.8.6"
  },
  "orig_nbformat": 4
 },
 "nbformat": 4,
 "nbformat_minor": 2
}
