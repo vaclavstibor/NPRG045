{
 "cells": [
  {
   "cell_type": "markdown",
   "metadata": {},
   "source": [
    "# News API\n",
    "Allows only 1 month old articles in free plan. \n",
    "https://newsapi.org/pricing"
   ]
  },
  {
   "cell_type": "code",
   "execution_count": null,
   "metadata": {},
   "outputs": [],
   "source": [
    "# Inspired but totally modifed https://github.com/janlukasschroeder/netflix-stock-price-impacted-by-news\n",
    "\n",
    "from datetime import datetime\n",
    "\n",
    "# Define the YEAR\n",
    "YEAR = 2023\n",
    "\n",
    "# Define the quarters\n",
    "quarters = {\n",
    "    \"Q1\": {\"start\": datetime(YEAR, 1, 1).date(), \"end\": datetime(YEAR, 3, 31).date()},\n",
    "    \"Q2\": {\"start\": datetime(YEAR, 4, 1).date(), \"end\": datetime(YEAR, 6, 30).date()},\n",
    "    \"Q3\": {\"start\": datetime(YEAR, 7, 1).date(), \"end\": datetime(YEAR, 9, 30).date()},\n",
    "    \"Q4\": {\"start\": datetime(YEAR, 10, 1).date(), \"end\": datetime(YEAR, 12, 31).date()},\n",
    "    \"CUSTOM\": {\"start\": datetime(YEAR, 9, 15).date(), \"end\": datetime(YEAR, 9, 25).date()},\n",
    "}\n",
    "\n",
    "# Access the concrete quarter\n",
    "quarter = quarters['Q4']\n",
    "\n",
    "# Access a specific quarter\n",
    "print(f\"start: {quarter['start']} \\nend:   {quarter['end']}\")"
   ]
  },
  {
   "cell_type": "code",
   "execution_count": null,
   "metadata": {},
   "outputs": [],
   "source": [
    "# Allow to display charts in the browser\n",
    "%matplotlib inline\n",
    "\n",
    "API_KEY = \"8808ede628b54caaae1a600efe071616\"\n",
    "\n",
    "section = \"section=(business|money|technology)\"\n",
    "from_date = f\"from-date={quarter['start']}\"\n",
    "to_date = f\"to-date={quarter['end']}\"\n",
    "page_size = \"page-size=100\"\n",
    "query = \"q=Apple\"\n",
    "api_key = f\"api-key={API_KEY}\"\n",
    "\n",
    "query_string = f\"{query}&{section}&{from_date}&{to_date}&{order_by}&{page_size}\"\n",
    "api = f\"https://newsapi.org/v2/everything?{query_string}&{api_key}\""
   ]
  }
 ],
 "metadata": {
  "language_info": {
   "name": "python"
  }
 },
 "nbformat": 4,
 "nbformat_minor": 2
}
