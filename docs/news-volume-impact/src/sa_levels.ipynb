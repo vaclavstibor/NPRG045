{
 "cells": [
  {
   "cell_type": "code",
   "execution_count": 7,
   "metadata": {},
   "outputs": [],
   "source": [
    "#!pip install nltk\n",
    "#!pip install spacy\n",
    "#!python -m spacy download en_core_web_sm"
   ]
  },
  {
   "cell_type": "code",
   "execution_count": 15,
   "metadata": {},
   "outputs": [
    {
     "name": "stderr",
     "output_type": "stream",
     "text": [
      "[nltk_data] Downloading package vader_lexicon to\n",
      "[nltk_data]     /Users/stiborv/nltk_data...\n",
      "[nltk_data]   Package vader_lexicon is already up-to-date!\n"
     ]
    },
    {
     "name": "stdout",
     "output_type": "stream",
     "text": [
      "Document Sentiment: {'neg': 0.099, 'neu': 0.716, 'pos': 0.185, 'compound': 0.5709}\n",
      "Sentence Sentiments: [{'neg': 0.099, 'neu': 0.716, 'pos': 0.185, 'compound': 0.5709}]\n",
      "Phrase Sentiments: [{'neg': 0.0, 'neu': 1.0, 'pos': 0.0, 'compound': 0.0}, {'neg': 0.0, 'neu': 0.0, 'pos': 0.0, 'compound': 0.0}, {'neg': 0.0, 'neu': 0.0, 'pos': 0.0, 'compound': 0.0}, {'neg': 0.0, 'neu': 1.0, 'pos': 0.0, 'compound': 0.0}, {'neg': 0.0, 'neu': 1.0, 'pos': 0.0, 'compound': 0.0}, {'neg': 0.0, 'neu': 0.0, 'pos': 1.0, 'compound': 0.34}, {'neg': 0.0, 'neu': 1.0, 'pos': 0.0, 'compound': 0.0}, {'neg': 0.0, 'neu': 0.0, 'pos': 0.0, 'compound': 0.0}, {'neg': 0.0, 'neu': 1.0, 'pos': 0.0, 'compound': 0.0}, {'neg': 0.0, 'neu': 1.0, 'pos': 0.0, 'compound': 0.0}, {'neg': 0.0, 'neu': 1.0, 'pos': 0.0, 'compound': 0.0}, {'neg': 0.0, 'neu': 1.0, 'pos': 0.0, 'compound': 0.0}, {'neg': 0.0, 'neu': 1.0, 'pos': 0.0, 'compound': 0.0}, {'neg': 0.0, 'neu': 1.0, 'pos': 0.0, 'compound': 0.0}, {'neg': 0.0, 'neu': 1.0, 'pos': 0.0, 'compound': 0.0}, {'neg': 0.0, 'neu': 0.0, 'pos': 0.0, 'compound': 0.0}, {'neg': 0.0, 'neu': 0.0, 'pos': 0.0, 'compound': 0.0}, {'neg': 0.0, 'neu': 1.0, 'pos': 0.0, 'compound': 0.0}, {'neg': 0.0, 'neu': 1.0, 'pos': 0.0, 'compound': 0.0}, {'neg': 0.0, 'neu': 1.0, 'pos': 0.0, 'compound': 0.0}, {'neg': 0.0, 'neu': 1.0, 'pos': 0.0, 'compound': 0.0}, {'neg': 0.0, 'neu': 1.0, 'pos': 0.0, 'compound': 0.0}, {'neg': 0.0, 'neu': 1.0, 'pos': 0.0, 'compound': 0.0}, {'neg': 0.0, 'neu': 1.0, 'pos': 0.0, 'compound': 0.0}, {'neg': 0.0, 'neu': 1.0, 'pos': 0.0, 'compound': 0.0}, {'neg': 0.0, 'neu': 0.0, 'pos': 0.0, 'compound': 0.0}, {'neg': 0.0, 'neu': 1.0, 'pos': 0.0, 'compound': 0.0}, {'neg': 0.0, 'neu': 1.0, 'pos': 0.0, 'compound': 0.0}, {'neg': 0.0, 'neu': 1.0, 'pos': 0.0, 'compound': 0.0}, {'neg': 0.0, 'neu': 1.0, 'pos': 0.0, 'compound': 0.0}, {'neg': 0.0, 'neu': 0.0, 'pos': 0.0, 'compound': 0.0}, {'neg': 0.0, 'neu': 0.0, 'pos': 0.0, 'compound': 0.0}, {'neg': 0.0, 'neu': 1.0, 'pos': 0.0, 'compound': 0.0}, {'neg': 0.0, 'neu': 0.0, 'pos': 1.0, 'compound': 0.4767}, {'neg': 0.0, 'neu': 1.0, 'pos': 0.0, 'compound': 0.0}, {'neg': 0.0, 'neu': 1.0, 'pos': 0.0, 'compound': 0.0}, {'neg': 1.0, 'neu': 0.0, 'pos': 0.0, 'compound': -0.4215}, {'neg': 0.0, 'neu': 1.0, 'pos': 0.0, 'compound': 0.0}, {'neg': 1.0, 'neu': 0.0, 'pos': 0.0, 'compound': -0.128}, {'neg': 0.0, 'neu': 1.0, 'pos': 0.0, 'compound': 0.0}, {'neg': 0.0, 'neu': 1.0, 'pos': 0.0, 'compound': 0.0}, {'neg': 0.0, 'neu': 1.0, 'pos': 0.0, 'compound': 0.0}, {'neg': 0.0, 'neu': 1.0, 'pos': 0.0, 'compound': 0.0}, {'neg': 0.0, 'neu': 0.0, 'pos': 0.0, 'compound': 0.0}, {'neg': 0.0, 'neu': 0.0, 'pos': 0.0, 'compound': 0.0}, {'neg': 0.0, 'neu': 0.0, 'pos': 1.0, 'compound': 0.296}, {'neg': 0.0, 'neu': 0.0, 'pos': 0.0, 'compound': 0.0}]\n",
      "Entity Sentiments: [('Microsoft', {'neg': 0.0, 'neu': 1.0, 'pos': 0.0, 'compound': 0.0}), ('Apple', {'neg': 0.0, 'neu': 1.0, 'pos': 0.0, 'compound': 0.0}), ('first', {'neg': 0.0, 'neu': 1.0, 'pos': 0.0, 'compound': 0.0}), ('2021', {'neg': 0.0, 'neu': 1.0, 'pos': 0.0, 'compound': 0.0}), ('Friday', {'neg': 0.0, 'neu': 1.0, 'pos': 0.0, 'compound': 0.0}), ('iPhone', {'neg': 0.0, 'neu': 1.0, 'pos': 0.0, 'compound': 0.0})]\n"
     ]
    }
   ],
   "source": [
    "import nltk\n",
    "from nltk.sentiment import SentimentIntensityAnalyzer\n",
    "import spacy\n",
    "\n",
    "# Download NLTK resources\n",
    "nltk.download('vader_lexicon')\n",
    "\n",
    "# Load spaCy model for named entity recognition\n",
    "nlp = spacy.load(\"en_core_web_sm\")\n",
    "\n",
    "def analyze_sentiment(text):\n",
    "    # Tokenize the text into sentences\n",
    "    sentences = nltk.sent_tokenize(text)\n",
    "    \n",
    "    # Initialize VADER sentiment analyzer\n",
    "    sia = SentimentIntensityAnalyzer()\n",
    "\n",
    "    # Analyze sentiment at the document level\n",
    "    document_sentiment = sia.polarity_scores(text)\n",
    "\n",
    "    # Analyze sentiment at the sentence level\n",
    "    sentence_sentiments = [sia.polarity_scores(sentence) for sentence in sentences]\n",
    "\n",
    "    # Analyze sentiment at the phrase level (token level)\n",
    "    tokens = nltk.word_tokenize(text)\n",
    "    phrase_sentiments = [sia.polarity_scores(token) for token in tokens]\n",
    "\n",
    "    # Analyze sentiment at the entity level using spaCy NER\n",
    "    entities = [(ent.text, sia.polarity_scores(ent.text)) for ent in nlp(text).ents]\n",
    "\n",
    "    return {\n",
    "        \"document_sentiment\": document_sentiment,\n",
    "        \"sentence_sentiments\": sentence_sentiments,\n",
    "        \"phrase_sentiments\": phrase_sentiments,\n",
    "        \"entity_sentiments\": entities\n",
    "    }\n",
    "\n",
    "# Example text\n",
    "text = \"Microsoft’s stock market value ended a trading session higher than that of Apple’s for the first time since 2021 on Friday, making it the world’s most valuable company as worries about demand hit the iPhone maker’s shares.\"\n",
    "\n",
    "# Analyze sentiment\n",
    "result = analyze_sentiment(text)\n",
    "\n",
    "# Print results\n",
    "print(\"Document Sentiment:\", result[\"document_sentiment\"])\n",
    "print(\"Sentence Sentiments:\", result[\"sentence_sentiments\"])\n",
    "print(\"Phrase Sentiments:\", result[\"phrase_sentiments\"])\n",
    "print(\"Entity Sentiments:\", result[\"entity_sentiments\"])\n"
   ]
  }
 ],
 "metadata": {
  "kernelspec": {
   "display_name": "Python 3",
   "language": "python",
   "name": "python3"
  },
  "language_info": {
   "codemirror_mode": {
    "name": "ipython",
    "version": 3
   },
   "file_extension": ".py",
   "mimetype": "text/x-python",
   "name": "python",
   "nbconvert_exporter": "python",
   "pygments_lexer": "ipython3",
   "version": "3.8.6"
  }
 },
 "nbformat": 4,
 "nbformat_minor": 2
}
